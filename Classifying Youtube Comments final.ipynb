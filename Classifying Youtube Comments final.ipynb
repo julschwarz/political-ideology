{
 "cells": [
  {
   "cell_type": "markdown",
   "metadata": {},
   "source": [
    "# DETECTING POLITICAL IDEOLOGY IN YOUTUBE COMMENTS USING MACHINE LEARNING \n",
    
   ]
  },
  {
   "cell_type": "markdown",
   "metadata": {},
   "source": [
    "### The Approach is as follows:\n",
    "<br>\n",
    "First we scraped the comments from various MSNBC and Fox News YouTube Videos dealing with the Mueller report / russia investigations via the YouTube API. We labeled 500 of them in three classes: \n",
    "\n",
    "- democratic / liberal (149)\n",
    "- republican / conservative (218)\n",
    "- neutral / everything that doesn't express a political opinion or that is ambiguous (233)\n"
   ]
  },
  {
   "cell_type": "markdown",
   "metadata": {},
   "source": [
    "### 1.Preprocessing\n",
    "   - Importing the self-labeled youtube comments ('comments_rep_dem_neutr_labeled.csv')\n",
    "   - Filter out only \"liberal\" and \"conservative\" comments <br>\n",
    "        *In the course of the project it became clear that dropping the neutral class would increase the resulting accuracy significantly. The reason is, that this step functions like a noise filtering where only comments with a high political bias are filtered out.  This step was also The inconveniene of this filtering was, that half of the initially 500 comments were dropped and left us with few data to train the classifier.*\n",
    "        \n",
    "   - Transformation into a Data Frame\n",
    "   - Vizualize target class distributions\n",
    "   - Create the cleaning fuction that is used as the analyzer function for my TfidfVectorizer\n",
    "        - RemovePunctuation()\n",
    "        - ToLower()\n",
    "        - Tokenize() -> Create uni- and bi-grams\n",
    "        - RemoveStopwords()\n",
    "        - Remove page breaks\n",
    "        - Remove Hyperlinks\n",
    "\n"
   ]
  },
  {
   "cell_type": "code",
   "execution_count": 2,
   "metadata": {},
   "outputs": [],
   "source": [
    "import pandas as pd\n",
    "import numpy as np\n",
    "import matplotlib.pyplot as plt\n",
    "import seaborn as sns\n",
    "import sys, os,glob\n",
    "import random\n",
    "from sklearn import preprocessing\n",
    "from sklearn.feature_extraction.text import TfidfVectorizer\n",
    "from sklearn.svm import SVC\n",
    "from sklearn.model_selection import train_test_split\n",
    "from sklearn.model_selection import cross_val_score\n",
    "from sklearn.model_selection import ShuffleSplit\n",
    "import warnings\n",
    "warnings.filterwarnings('ignore')"
   ]
  },
  {
   "cell_type": "code",
   "execution_count": 16,
   "metadata": {},
   "outputs": [
    {
     "name": "stdout",
     "output_type": "stream",
     "text": [
      "(367, 2)\n"
     ]
    },
    {
     "data": {
      "text/html": [
       "<div>\n",
       "<style scoped>\n",
       "    .dataframe tbody tr th:only-of-type {\n",
       "        vertical-align: middle;\n",
       "    }\n",
       "\n",
       "    .dataframe tbody tr th {\n",
       "        vertical-align: top;\n",
       "    }\n",
       "\n",
       "    .dataframe thead th {\n",
       "        text-align: right;\n",
       "    }\n",
       "</style>\n",
       "<table border=\"1\" class=\"dataframe\">\n",
       "  <thead>\n",
       "    <tr style=\"text-align: right;\">\n",
       "      <th></th>\n",
       "      <th>label</th>\n",
       "      <th>text</th>\n",
       "    </tr>\n",
       "  </thead>\n",
       "  <tbody>\n",
       "    <tr>\n",
       "      <th>0</th>\n",
       "      <td>conservative</td>\n",
       "      <td>This Coup Attempt was to keep an Honest man fr...</td>\n",
       "    </tr>\n",
       "    <tr>\n",
       "      <th>1</th>\n",
       "      <td>liberal</td>\n",
       "      <td>Fox said this correctly... Do not have blind l...</td>\n",
       "    </tr>\n",
       "    <tr>\n",
       "      <th>2</th>\n",
       "      <td>conservative</td>\n",
       "      <td>All reasonable Americans who have a clue about...</td>\n",
       "    </tr>\n",
       "    <tr>\n",
       "      <th>8</th>\n",
       "      <td>liberal</td>\n",
       "      <td>The person who gave Mueller information about ...</td>\n",
       "    </tr>\n",
       "    <tr>\n",
       "      <th>9</th>\n",
       "      <td>conservative</td>\n",
       "      <td>Dems leadership is dumb and incompetent. Trump...</td>\n",
       "    </tr>\n",
       "    <tr>\n",
       "      <th>10</th>\n",
       "      <td>conservative</td>\n",
       "      <td>Impeachment talks are insane. Round them up an...</td>\n",
       "    </tr>\n",
       "    <tr>\n",
       "      <th>12</th>\n",
       "      <td>conservative</td>\n",
       "      <td>MAGA, best POTUS and FLOTUS ever!!</td>\n",
       "    </tr>\n",
       "    <tr>\n",
       "      <th>13</th>\n",
       "      <td>liberal</td>\n",
       "      <td>The next bombshell will be that the republican...</td>\n",
       "    </tr>\n",
       "    <tr>\n",
       "      <th>15</th>\n",
       "      <td>liberal</td>\n",
       "      <td>Trump is a traitor and criminal.  He is not Am...</td>\n",
       "    </tr>\n",
       "    <tr>\n",
       "      <th>17</th>\n",
       "      <td>liberal</td>\n",
       "      <td>TRUMP SAYING HE FELL IN LOVE WITH CREA DICTATO...</td>\n",
       "    </tr>\n",
       "  </tbody>\n",
       "</table>\n",
       "</div>"
      ],
      "text/plain": [
       "           label                                               text\n",
       "0   conservative  This Coup Attempt was to keep an Honest man fr...\n",
       "1        liberal  Fox said this correctly... Do not have blind l...\n",
       "2   conservative  All reasonable Americans who have a clue about...\n",
       "8        liberal  The person who gave Mueller information about ...\n",
       "9   conservative  Dems leadership is dumb and incompetent. Trump...\n",
       "10  conservative  Impeachment talks are insane. Round them up an...\n",
       "12  conservative                 MAGA, best POTUS and FLOTUS ever!!\n",
       "13       liberal  The next bombshell will be that the republican...\n",
       "15       liberal  Trump is a traitor and criminal.  He is not Am...\n",
       "17       liberal  TRUMP SAYING HE FELL IN LOVE WITH CREA DICTATO..."
      ]
     },
     "execution_count": 16,
     "metadata": {},
     "output_type": "execute_result"
    }
   ],
   "source": [
    "#Loading Data:\n",
    "comments = pd.read_csv('data/comments_rep_dem_neutr_labeled.csv')\n",
    "\n",
    "# Delete index column:\n",
    "comments = comments.drop('Unnamed: 0', axis =1)\n",
    "\n",
    "# Drop neutral class:\n",
    "comments = comments[comments[\"label\"] != \"neutral\"]\n",
    "\n",
    "# View shape and head:\n",
    "print(comments.shape)\n",
    "comments[:10]"
   ]
  },
  {
   "cell_type": "code",
   "execution_count": 17,
   "metadata": {},
   "outputs": [
    {
     "name": "stdout",
     "output_type": "stream",
     "text": [
      "Number of conservative comments: 218\n",
      "Number of liberal comments: 149\n",
      "The dataset is slightly unbalanced\n"
     ]
    },
    {
     "data": {
      "image/png": "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\n",
      "text/plain": [
       "<Figure size 432x288 with 1 Axes>"
      ]
     },
     "metadata": {
      "needs_background": "light"
     },
     "output_type": "display_data"
    }
   ],
   "source": [
    "#Vizualize target class distribution:\n",
    "ax = sns.countplot(x=\"label\", data=comments)    \n",
    "ax.set(title='Distribution of target classes')\n",
    "print('Number of conservative comments: {}').format(int(comments[\"label\"][comments[\"label\"] == \"conservative\"].count()))\n",
    "print('Number of liberal comments: {}').format(int(comments[\"label\"] [comments[\"label\"]  == \"liberal\"].count()))\n",
    "print('The dataset is slightly unbalanced')"
   ]
  },
  {
   "cell_type": "code",
   "execution_count": 5,
   "metadata": {},
   "outputs": [],
   "source": [
    "import string\n",
    "import nltk\n",
    "import re\n",
    "stopwords= nltk.corpus.stopwords.words('english')\n",
    "\n",
    "#Define a cleaning function:\n",
    "def clean(sentence):\n",
    "    text = sentence.lower()\n",
    "    \n",
    "    text = re.sub(r\"\\'s\", \" is \", text)  \n",
    "    text = re.sub(r\"\\’s\", \" is \", text)\n",
    "    \n",
    "    text = re.sub(r\"\\n\", \" \", text) #Zeilenumbrüche weg\n",
    "    text = re.sub(r\"\\r\", \" \", text) #carriage return weg\n",
    "\n",
    "    text = re.sub(r'http\\S+', '',text) #remove Hyperlinks\n",
    "    text = re.sub(r'www\\.\\S+\\.com', '',text) #remove other Hyperlinks\n",
    "    \n",
    "    text = re.sub(r\"\\’ve\", \" have \", text)\n",
    "    text = re.sub(r\"\\'ve\", \" have \", text)\n",
    "    \n",
    "    text = re.sub(r\"n\\'t\", \" not\", text)\n",
    "    text = re.sub(r\"n\\’t\", \" not\", text)\n",
    "    text = re.sub(r\"\\'t\", \" not\", text)\n",
    "    text = re.sub(r\"\\’t\", \" not\", text)\n",
    "    \n",
    "    text = re.sub(r\"\\'re\", \" are\", text)\n",
    "    text = re.sub(r\"\\’re\", \" are\", text)\n",
    "\n",
    "    text = re.sub(r\"i’m\", \"i am \", text)\n",
    "    text = re.sub(r\"i'm\", \"i am \", text)\n",
    "    \n",
    "    text = re.sub(r\"\\’re\", \" are \", text)\n",
    "    text = re.sub(r\"\\'re\", \" are \", text)\n",
    "        \n",
    "    text = re.sub(r\"\\’d\", \" would \", text)\n",
    "    text = re.sub(r\"\\'d\", \" would \", text)\n",
    "    \n",
    "    text = re.sub(r\"\\’ll\", \" will \", text)\n",
    "    text = re.sub(r\"\\'ll\", \" will \", text)\n",
    "    \n",
    "    text = \"\".join(x for x in text if x not in string.punctuation) #remove punctuation\n",
    "    \n",
    "    text = re.sub(' +', ' ',text)  #remove duplicate white space\n",
    "    temp =  text.lower().split(' ') #tolower case + create unique word tokens\n",
    "    temp = [x.lstrip() for x in temp]\n",
    "    ngrams = zip(*[temp[i:] for i in range(2)]) #create bigrams\n",
    "    ngrams = [\" \".join(ngram) for ngram in ngrams]\n",
    "    temp = ngrams + temp # bring ngrams and unique word tokens in one list\n",
    "    temp2 = [x for x in temp if x not in stopwords] # remove stopwords (only from unique word tokens)\n",
    "    return temp2\n",
    "\n",
    "\n",
    "# define helper function to plot ROC curves\n",
    "def plot_roc_curves(fprs, tprs):    \n",
    "    fig = plt.figure(figsize=(5,5))\n",
    "    \n",
    "    for fpr, tpr in list(zip(fprs, tprs)):\n",
    "        plt.plot(fpr, tpr, label='ROC curve (AUC = %0.2f)' % metrics.auc(fpr, tpr))\n",
    "    plt.plot([0, 1], [0, 1], 'k--')\n",
    "    plt.xlim([0.0, 1.0])\n",
    "    plt.ylim([0.0, 1.05])\n",
    "    plt.xlabel('False Positive Rate')\n",
    "    plt.ylabel('True Positive Rate')\n",
    "    plt.title('Receiver operating characteristic')\n",
    "    plt.legend(loc=\"lower right\")\n",
    "    plt.show()"
   ]
  },
  {
   "cell_type": "markdown",
   "metadata": {},
   "source": [
    "## Approach 1: Self-label YouTube comments and try to predict class\n",
    "\n",
    "- build TDIDF matrix with train data (comments)\n",
    "- Look at accuracies of different classifiers with 10-fold cross validation <br>\n",
    "    *We saw that a SVM works best*\n",
    "- Validate with 30% Holdout \n",
    "    - build and confusion matrix <br>\n",
    "    *We saw that the classifier has a high bias towards republican comments. Only few are labeled democratic. The reason is most probably the high class imbalance - republicans tend to comment a lot more on both MSNBC and Fox News videos on the Mueller topic. Therefore we have to adapt the class weights when performing parameter tuning*\n",
    "- Parameter tuning\n",
    "- Train and test new model with improved Hyperparameters (liberal class got higher weight)\n",
    "    - build and confusion matrix\n",
    "    - build roc curve\n",
    "    - look at precision and recall with different thresholds\n",
    "\n",
    "As the classes in reality are very imbalanced - republicans tend to comment a lot more on both MSNBC and Fox News videos on the Mueller topic - we, in a second step, artificially balanced out the classes by labelling more democratic comments. The resulting data set ('comments_rep_dem_labeled.csv') has 259 republican/conservative and 243 democratic/liberal comments and is mostly balanced.\n",
    "- Import balanced dataset and look at class balances (502 dem and rep. comments)\n",
    "- build TFIDF\n",
    "- Train and test new model with balanced data\n",
    "    - build and confusion matrix\n",
    "    - build roc curve\n",
    "    - look at precision and recall with different thresholds\n",
    "\n",
    "The results were similar to the ones with the imbalanced data, where we gave more weight to the liberal class."
   ]
  },
  {
   "cell_type": "code",
   "execution_count": 7,
   "metadata": {},
   "outputs": [
    {
     "data": {
      "text/plain": [
       "(367, 11571)"
      ]
     },
     "execution_count": 7,
     "metadata": {},
     "output_type": "execute_result"
    }
   ],
   "source": [
    "#build TDIDF matrix with train data (comments)\n",
    "vect = TfidfVectorizer(analyzer=clean)\n",
    "vector_output = vect.fit_transform(comments['text'])\n",
    "\n",
    "#Shape of matrix:\n",
    "vector_output.shape"
   ]
  },
  {
   "cell_type": "markdown",
   "metadata": {},
   "source": [
    "### Validate with 10 fold cross:"
   ]
  },
  {
   "cell_type": "code",
   "execution_count": 8,
   "metadata": {},
   "outputs": [
    {
     "name": "stdout",
     "output_type": "stream",
     "text": [
      "Accuracy-Score of SVM classifier: 0.76 (+/- 0.12)\n",
      "Accuracy-Score of Logistic regression on: 0.64 (+/- 0.08)\n",
      "Accuracy-Score of Decision Tree on: 0.68 (+/- 0.12)\n",
      "Accuracy-Score of RandomForest on: 0.59 (+/- 0.01)\n"
     ]
    }
   ],
   "source": [
    "# SVM\n",
    "from sklearn.svm import SVC\n",
    "svm = SVC(kernel = \"linear\")\n",
    "scores = cross_val_score(svm, vector_output, comments['label'], cv=10) # When the cv argument is an integer, cross_val_score uses KFold\n",
    "print(\"Accuracy-Score of SVM classifier: %0.2f (+/- %0.2f)\" % (scores.mean(), scores.std() * 2))  \n",
    "\n",
    "#Logistic Regression\n",
    "from sklearn.linear_model import LogisticRegression\n",
    "logreg = LogisticRegression()\n",
    "scores = cross_val_score(logreg, vector_output, comments['label'], cv=10)  # When the cv argument is an integer, cross_val_score uses KFold\n",
    "print(\"Accuracy-Score of Logistic regression on: %0.2f (+/- %0.2f)\" % (scores.mean(), scores.std() * 2))\n",
    "    \n",
    "#Decision Tree\n",
    "from sklearn.tree import DecisionTreeClassifier\n",
    "clf = DecisionTreeClassifier()\n",
    "scores = cross_val_score(clf, vector_output, comments['label'], cv=10)  # When the cv argument is an integer, cross_val_score uses KFold\n",
    "print(\"Accuracy-Score of Decision Tree on: %0.2f (+/- %0.2f)\" % (scores.mean(), scores.std() * 2))\n",
    "     \n",
    "#RandomForest\n",
    "from sklearn.ensemble import RandomForestClassifier\n",
    "rd = RandomForestClassifier(n_estimators=100, max_depth=2,random_state=0)\n",
    "scores = cross_val_score(rd, vector_output, comments['label'], cv=10)  # When the cv argument is an integer, cross_val_score uses KFold\n",
    "print(\"Accuracy-Score of RandomForest on: %0.2f (+/- %0.2f)\" % (scores.mean(), scores.std() * 2))\n"
   ]
  },
  {
   "cell_type": "markdown",
   "metadata": {},
   "source": [
    "### Train and Test SVM (performed best) with 30% Holdout to look at precision, recall and confusion matrix"
   ]
  },
  {
   "cell_type": "code",
   "execution_count": 10,
   "metadata": {},
   "outputs": [
    {
     "name": "stdout",
     "output_type": "stream",
     "text": [
      "              precision    recall  f1-score   support\n",
      "\n",
      "conservative       0.71      0.92      0.80        65\n",
      "     liberal       0.81      0.46      0.58        46\n",
      "\n",
      "   micro avg       0.73      0.73      0.73       111\n",
      "   macro avg       0.76      0.69      0.69       111\n",
      "weighted avg       0.75      0.73      0.71       111\n",
      "\n",
      "Accuracy-Score of SVM on: 0.73 \n"
     ]
    },
    {
     "data": {
      "text/plain": [
       "<matplotlib.axes._subplots.AxesSubplot at 0x1a1acbb150>"
      ]
     },
     "execution_count": 10,
     "metadata": {},
     "output_type": "execute_result"
    },
    {
     "data": {
      "image/png": "iVBORw0KGgoAAAANSUhEUgAAAXEAAAD8CAYAAACB3pQWAAAABHNCSVQICAgIfAhkiAAAAAlwSFlzAAALEgAACxIB0t1+/AAAADl0RVh0U29mdHdhcmUAbWF0cGxvdGxpYiB2ZXJzaW9uIDIuMi4zLCBodHRwOi8vbWF0cGxvdGxpYi5vcmcvIxREBQAAEmhJREFUeJzt3XmQXWWdxvHvrxOgkwDZTEKAEMIqMMMSIghBEBBRCLIYkgFSTHQ0gyOLwwBTOAiK4CgRp4wKTHCAsBYQwBKUTarQgSgkgiDbwLAqEiELhJBFEn7zx73BHirdfRpyc/tNfz9VXfeec7fnpk4/Of3e99wTmYkkqUwtzQ4gSXr/LHFJKpglLkkFs8QlqWCWuCQVzBKXpIJZ4pJUMEtckgpmiUtSwXo3+gX67H+uh4SqW1r4i1OaHUFqV2uv/lHlfu6JS1LBLHFJKpglLkkFs8QlqWCWuCQVzBKXpIJZ4pJUMEtckgpmiUtSwSxxSSqYJS5JBbPEJalglrgkFcwSl6SCWeKSVDBLXJIKZolLUsEscUkqmCUuSQWzxCWpYJa4JBXMEpekglniklQwS1ySCmaJS1LBLHFJKpglLkkFs8QlqWCWuCQVzBKXpIJZ4pJUMEtckgpmiUtSwSxxSSqYJS5JBbPEJalglrgkFcwSl6SCWeKSVDBLXJIKZolLUsEscUkqmCUuSQWzxCWpYJa4JBXMEpekglniklQwS1ySCmaJS1LBejc7gNrXv98GXHz6Yew4aiiZyQkX3MrTf5jHVWePZ+Qm/Xlx7htM+sZMXl+8rNlR1cN9+hOH07dfX3q1tNCrdy+uu/HKZkfqMSzxbuy7J32Kux58lmO/PpP1erfQd4P1OGPSx7j3oef57nX3c9oxYznt2LGcNf2eZkeV+PEVFzNw4IBmx+hxHE7ppjbquz777LwFV/z8YQDeXvEOb7y1nHF7b8fVdz4CwNV3PsJhY7dvZkxJTeaeeDc1avhA5r2+hOn/+hn+duthPPz0K5z2wzsZOmhD5i5YDMDcBYsZMrBfk5NKQMAJXziJiGD8hCMZP+HIZifqMSzxbqp3rxZ23W44p/7gDmY/+TLfPfFgTjtmbLNjSas145ofM3ToEObPX8AJXziRUVuNZPcxo5sdq0fodDglaiZFxNn15S0iYo9OHjMlIuZExJwVf5qzprL2KC+/toiXX1vE7CdfBuCWXz7JrtsN59UFi9lk0IYAbDJoQ15b+FYzY0oADB06BIDBgwdxwIEf57FHn2hyop6jypj4RcBewDH15TeBH3X0gMycnpljMnNM703HfMCIPdOfF77FH19dxLYjBgPw8dGjeOqF1/jZrKeZdPAuAEw6eBdum/V0M2NKLFmylLfeeuvd67+e9QDbbLt1k1P1HFWGU/bMzNER8TBAZi6MiPUbnEvAqdNu5/J/O5L1e/fihVcWMuU7P6WlJbj6nPH8/SG78odXF3Hc129sdkz1cAvmL+CfTz4dgBUrVnLIoQcz9mN7NTlVzxGZ2fEdIh4A9gZm18t8CHBXZu5W5QX67H9uxy8gNcnCX5zS7AhSu1p79Y8q96synDINuAUYGhHnA/cB3/oA2SRJa0inwymZeU1E/BY4EAjgiMx8suHJJEmd6rTEI+L7wPWZ2eGHmZKkta/KcMpDwFkR8b8RMTUinG4iSd1EpyWemTMy8xBgD+Bp4DsR8UzDk0mSOtWV707ZBvgwsCXwVEPSSJK6pMoRm6v2vM8FHgd2z8zDGp5MktSpKgf7PA/slZnzGh1GktQ17ZZ4RHw4M58CHgS2iIgt2t6emQ81OpwkqWMd7YmfCkwBLlzNbQkc0JBEkqTK2i3xzJxSv/rpzPx/5/+KiNaGppIkVVJldsqsiuskSWtZR2PimwCbAX0iYjdqh9wDbAz0XQvZJEmd6GhM/GBgMrA58L02698EvtrATJKkijoaE58BzIiIz2bmTWsxkySpoirfYnhTRBwK7AS0tll/biODSZI6V+WIzUuAicBJ1MbFjwZGNjiXJKmCKrNT9s7M44GFmfkNaufbHNHYWJKkKqqU+NL65ZKI2BR4GxjVuEiSpKqqfHfKbRExAJhK7bvFE7i0oakkSZVU+WDzm/WrN0XEbUBrZr7R2FiSpCqqfLD5SER8NSK2zszlFrgkdR9VxsQ/A6wAboiI2RFx2nu/0VCS1BxVTs/2YmZekJm7A8cCO1P7jnFJUpNV+WCTiNgSmEBtvvhK4IzGRZIkVdVpiUfEA8B6wA3A0Zn5XMNTSZIq6bDEI6IFuCUzv72W8kiSuqDDMfHMfAc4ZC1lkSR1UZXZKXfXZ6SMiIhBq34ankyS1KkqH2x+vn755TbrEthqzceRJHVFlSM2/Z4USeqmqhyx2TcizoqI6fXlbSNiXOOjSZI6U2VM/HLgL8De9eU/Auc1LJEkqbIqJb51Zl5A7Stoycyl/PWkyZKkJqpS4n+JiD7UPswkIrYGljc0lSSpkiqzU84B7gBGRMQ1wFhgciNDSZKqqTI75e6IeAj4KLVhlFMyc17Dk0mSOlVldspYYFlm/gwYAHw1IjxRsiR1A1XGxC+mdn7NXYDTgReBKxuaSpJUSZUSX5GZCRwOTMvM7wMbNTaWJKmKKh9svhkRZwKTgH0johe1r6aVJDVZlT3xidSmFP5DZs4FNqN25ntJUpNVmZ0yF/hem+WXcExckrqFKrNTjoqIZyLijYhYFBFvRsSitRFOktSxKmPiFwCHZeaTjQ4jSeqaKmPif7bAJal7qrInPicirgd+QpvvTMnMmxuWSpJUSZUS3xhYAnyyzboELHFJarIqs1M+tzaCSJK6rsrslM0j4paIeDUi/hwRN0XE5msjnCSpY1E7or6DO0TcDVwLXFVfNQk4LjMPqvICM5+/veMXkJpkSGvfZkeQ2rXf8P0qnXynyuyUIZl5eWauqP9cAQz5QOkkSWtElRKfFxGTIqJX/WcSML/RwSRJnatS4p8HJgBzgVeA8fV1kqQmqzI75SXgM2shiySpi6rMTpkREQPaLA+MiMsaG0uSVEWV4ZSdM/P1VQuZuRDYrXGRJElVVSnxlogYuGohIgZR7UhPSVKDVSnjC4FZETGT2uH2E4DzG5pKklRJlQ82r4yIOcABQABHZeYTDU8mSepUpWGRemlb3JLUzVQZE5ckdVOWuCQVzBKXpIJZ4pJUMEtckgpmiUtSwSxxSSqYJS5JBbPEJalglrgkFcwSl6SCWeKSVDBLXJIKZolLUsEscUkqmCUuSQWzxCWpYJa4JBXMEpekglniklQwS1ySCmaJS1LBLHFJKpglLkkFs8QlqWCWuCQVzBKXpIJZ4pJUMEtckgpmiUtSwSxxSSqYJS5JBbPEJalglrgkFcwSl6SCWeKSVDBLXJIKZolLUsEscUkqWO9mB9Dqvf7aQmZOvYbFCxcR0cJHDtmLvY/Yj3uuup3Zd/yGfv37AfDJyePYfo8dm5xWPc2CVxdw2bcuY9GCRURLsO+4fTlw/IHMuXcOt15xK3NfnMuZF5/Jlh/estlR13mWeDfV0tLCp794OJttO4LlS5bxo5MuZJvdtgdg7JH78bHxBzQ5oXqyll4tHP1PRzNyu5EsW7KM86acxw5jdmCzUZvxpXO/xNUXXt3siD2GJd5NbTy4PxsP7g/ABn1bGTJiGIvmv9HkVFLNgMEDGDB4AACtfVsZPnI4r897nR3H+Ffh2uaYeAEWzp3PK8/+kc23HwnAb37630w74Tvc9L1rWfrmkianU08375V5vPTMS4zaYVSzo/RIDSnxiJgSEXMiYs7d193eiJfoMZYvXc61513Oof94JK39Wtlz3D78y+Vf48SLTmejQf35+aU/aXZE9WDLlizjknMuYeKJE+nTr0+z4/RI7Q6nRMRRHT0wM2/u4LbpwHSAmc/fnu87XQ+3csVKrv3mZeyy/+7stM8uAGw4cKN3b//Ipz7Kledc2qx46uFWrFjBJedcwp6f2JPR+45udpweq6Mx8cM6uC2BdktcH1xmcvN/XMfQLYaxz2f3f3f9ovlvvDtW/sSs3zNsy+HNiqgeLDO58oIrGb7FcA6acFCz4/RokdnYHWX3xN+fFx57jktPm8awLYcTLQHUphM+eu9DvPLcywAMHDaIw0+e8G6pq2uGtPZtdoRiPfPoM0w9eSqbbbUZEbXt88gvHsmKt1dw3fevY/Ebi+mzYR9GbDOCr0z9SpPTlmm/4ftFlftVKvGIOBTYCWhdtS4zz63yApa4uitLXN1Z1RLv9IPNiLgEmAicBARwNDDyA6WTJK0RVWan7J2ZxwMLM/MbwF7AiMbGkiRVUaXEl9Uvl0TEpsDbgBNCJakbqHLE5q0RMQCYCjxEbWaK89okqRvosMQjogW4JzNfB26KiNuA1sz0+G9J6gY6HE7JzHeAC9ssL7fAJan7qDImfldEfDZWTQaVJHUbVcbETwX6ASsjYim1aYaZmRs3NJkkqVOdlnhmbtTZfSRJzVHlYJ+IiEkR8bX68oiI2KPx0SRJnakyJn4RtQN8jq0vLwZ+1LBEkqTKqoyJ75mZoyPiYYDMXBgR6zc4lySpgip74m9HRC9qB/kQEUOAdxqaSpJUSZUSnwbcAgyLiPOB+4BvNTSVJKmSKrNTromI3wIH1lcdkZlPNjaWJKmKqme77wusGlLxRHqS1E1UmWJ4NjADGAR8CLg8Is5qdDBJUueq7IkfA+yWmcsAIuLb1L7N8LxGBpMkda7KB5sv0Oa0bMAGwLMNSSNJ6pJ298Qj4gfUxsCXA49HxN315YOozVCRJDVZR8Mpc+qXv6U2xXCVexuWRpLUJe2WeGbOWJtBJEld19Fwyg2ZOSEifk/9aM22MnPnhiaTJHWqo+GUU+qX49ZGEElS13U0nPJK/fLFtRdHktQVHQ2nvMlqhlHwzD6S1G10tCfuGX0kqZurcrCPJKmbssQlqWCWuCQVzBKXpIJZ4pJUMEtckgpmiUtSwSxxSSqYJS5JBbPEJalglrgkFcwSl6SCWeKSVDBLXJIKZolLUsEscUkqmCUuSQWzxCWpYJa4JBXMEpekglniklQwS1ySCmaJS1LBIjObnUFdEBFTMnN6s3NI7+W22RzuiZdnSrMDSO1w22wCS1ySCmaJS1LBLPHyOOao7sptswn8YFOSCuaeuCQVzBJfx0XE5IjYtM3yjyNix2ZmUvcUEYvrl5tGxMz69ckR8cMGvd4VETG+Ec/dk1jiBYmIXu/jYZOBd0s8M7+QmU+ssVBa52TmnzJzjZTr+9xm1QWWeBdExPER8WhEPBIRV9XXjYyIe+rr74mILerrr4iIaRExKyKeW7XHERHDI+JXEfG7iHgsIj5WX//JiPh1RDwUETdGxIb19S9ExNkRcR9wRkQ82CbPlhHxaP362RExu/6c06NmPDAGuKb+en0i4t6IGBMRX4qIC9o81+SI+EH9+qSIeLD+mP/0F7FnqW9Xj7VZNSIi7oiI/4mIc9rcb7XbSUQsjohzI+IBYK/VbZtr+z2tyyzxiiJiJ+DfgAMycxfglPpNPwSuzMydgWuAaW0eNhzYBxgHfLu+7ljgzszcFdgF+F1EfAg4C/hEZo4G5gCntnmeZZm5T2b+O7B+RGxVXz8RuGFVjsz8SGb+DdAHGJeZM+vPdVxm7pqZS9s850zgqDbLE4HrI2KH+vWx9YwrgeO69q+ldcwe1LaBXYGj6zsBHW0n/YDHMnPPzLyP1Wyba/8trLt6NztAQQ4AZmbmPIDMXFBfvxd/LcOrgAvaPOYnmfkO8EREDKuvmw1cFhHr1W//XUTsB+wI3F/fSVkf+HWb57m+zfUbgAnU/lOYWP8B2D8izgD6AoOAx4Fb23szmfla/S+EjwLPANsD9wNfBnYHZtez9AFe7eTfRuu2uzNzPkBE3Extx2QF7W8nK4Gb2jy+S9umusYSry6AKvMx295n+XseT2b+KiL2BQ4FroqIqcBCar8ox7TznG+1uX49cGP9lykz85mIaAUuAsZk5h8i4utAa4Ws11P7D+Ep4JbMzPqfujMy88wKj1fP8N7tPqltz+1tJ8sycyXAB9g2VZHDKdXdA0yIiMEAETGovn4W8Hf168cB93X0JBExEng1My8F/gsYDfwGGBsR29Tv0zcitlvd4zPzWWp7Ol/jr3voq34p5tXH0tt+KPUmsFE7cW4GjgCOafNc9wDjI2LoqvdZz6ye66D6dtCH2vZyP9W3k462Ta0B7olXlJmPR8T5wC8jYiXwMLWZHydTGx45HXgN+FwnT/Vx4PSIeBtYDBxfH9qYDFwXERvU73cW8HQ7z3E9MBUYVc/2ekRcCvweeIHakM0qVwCXRMRSakM/bd/Twoh4AtgxMx+sr3siIs4C7oqIFuBtakMsL3byvrTuuo/aUOE2wLWZOQegynbSybapNcAjNiWpYA6nSFLBLHFJKpglLkkFs8QlqWCWuCQVzBKXpIJZ4pJUMEtckgr2f+0AqWuzpASLAAAAAElFTkSuQmCC\n",
      "text/plain": [
       "<Figure size 432x288 with 1 Axes>"
      ]
     },
     "metadata": {
      "needs_background": "light"
     },
     "output_type": "display_data"
    }
   ],
   "source": [
    "#split in test and train set:\n",
    "x_train, x_test, y_train, y_test = train_test_split(vector_output, comments['label'], test_size=0.3, random_state = 27)\n",
    "\n",
    "#train model\n",
    "svm = SVC(kernel = \"linear\")\n",
    "svm_model = svm.fit(x_train,y_train)\n",
    "y_pred = svm.predict(x_test)\n",
    "\n",
    "#test model\n",
    "from sklearn.metrics import classification_report, confusion_matrix\n",
    "from sklearn.metrics import precision_recall_fscore_support as score\n",
    "print(classification_report(y_test, y_pred))\n",
    "\n",
    "print(\"Accuracy-Score of SVM on: %0.2f \" % (svm_model.score(x_test, y_test)))\n",
    "\n",
    "#Visualize confusion matrix:\n",
    "cm = confusion_matrix(y_test, y_pred)\n",
    "sns.heatmap(cm, fmt='d', cmap='GnBu', cbar=False, annot=True, yticklabels = [ \"conservative \", \"liberal \"], xticklabels  = [\"conservative \", \"liberal \"])\n",
    "\n"
   ]
  },
  {
   "cell_type": "markdown",
   "metadata": {},
   "source": [
    "### Parameter tuning"
   ]
  },
  {
   "cell_type": "code",
   "execution_count": 11,
   "metadata": {},
   "outputs": [
    {
     "name": "stdout",
     "output_type": "stream",
     "text": [
      "Accuracy-Score with linear SVM classifier: 0.76 (+/- 0.12)\n",
      "Accuracy-Score with rbf SVM classifier: 0.59 (+/- 0.01)\n",
      "Accuracy-Score with poly SVM classifier: 0.59 (+/- 0.01)\n",
      "+#+#+#+#+#+#+#+#+#+#+\n",
      "Accuracy-Score with g = 0.1 SVM classifier: 0.76 (+/- 0.12)\n",
      "Accuracy-Score with g = 1.0 SVM classifier: 0.76 (+/- 0.12)\n",
      "Accuracy-Score with g = 10.0 SVM classifier: 0.76 (+/- 0.12)\n",
      "Accuracy-Score with g = 100.0 SVM classifier: 0.76 (+/- 0.12)\n",
      "Accuracy-Score with g = 1000.0 SVM classifier: 0.76 (+/- 0.12)\n",
      "+#+#+#+#+#+#+#+#+#+#+\n",
      "Accuracy-Score with c = 0.00 SVM classifier: 0.59 (+/- 0.01)\n",
      "Accuracy-Score with c = 0.01 SVM classifier: 0.59 (+/- 0.01)\n",
      "Accuracy-Score with c = 0.10 SVM classifier: 0.59 (+/- 0.01)\n",
      "Accuracy-Score with c = 1.00 SVM classifier: 0.76 (+/- 0.12)\n",
      "Accuracy-Score with c = 10.00 SVM classifier: 0.76 (+/- 0.09)\n",
      "Accuracy-Score with c = 100.00 SVM classifier: 0.76 (+/- 0.09)\n",
      "Accuracy-Score with c = 1000.00 SVM classifier: 0.76 (+/- 0.09)\n",
      "+#+#+#+#+#+#+#+#+#+#+\n",
      "Accuracy-Score with liberal class weight = 0 SVM classifier: 0.59 (+/- 0.01)\n",
      "Accuracy-Score with liberal class weight = 0 SVM classifier: 0.62 (+/- 0.04)\n",
      "Accuracy-Score with liberal class weight = 1 SVM classifier: 0.76 (+/- 0.12)\n",
      "Accuracy-Score with liberal class weight = 2 SVM classifier: 0.76 (+/- 0.09)\n",
      "Accuracy-Score with liberal class weight = 3 SVM classifier: 0.76 (+/- 0.09)\n",
      "Accuracy-Score with liberal class weight = 4 SVM classifier: 0.76 (+/- 0.09)\n",
      "Accuracy-Score with liberal class weight = 10 SVM classifier: 0.76 (+/- 0.09)\n",
      "Accuracy-Score with liberal class weight = 20 SVM classifier: 0.76 (+/- 0.09)\n",
      "+#+#+#+#+#+#+#+#+#+#+\n",
      "Accuracy-Score with conservative class weight = 0 SVM classifier: 0.41 (+/- 0.01)\n",
      "Accuracy-Score with conservative class weight = 0 SVM classifier: 0.70 (+/- 0.13)\n",
      "Accuracy-Score with conservative class weight = 1 SVM classifier: 0.76 (+/- 0.12)\n",
      "Accuracy-Score with conservative class weight = 2 SVM classifier: 0.75 (+/- 0.11)\n",
      "Accuracy-Score with conservative class weight = 3 SVM classifier: 0.75 (+/- 0.11)\n",
      "Accuracy-Score with conservative class weight = 4 SVM classifier: 0.75 (+/- 0.11)\n",
      "Accuracy-Score with conservative class weight = 10 SVM classifier: 0.75 (+/- 0.11)\n",
      "Accuracy-Score with conservative class weight = 20 SVM classifier: 0.75 (+/- 0.11)\n",
      "+#+#+#+#+#+#+#+#+#+#+\n",
      "Accuracy-Score of poly kernel with degree = 0 SVM classifier: 0.59 (+/- 0.01)\n",
      "Accuracy-Score of poly kernel with degree = 1 SVM classifier: 0.59 (+/- 0.01)\n",
      "Accuracy-Score of poly kernel with degree = 2 SVM classifier: 0.59 (+/- 0.01)\n",
      "Accuracy-Score of poly kernel with degree = 3 SVM classifier: 0.59 (+/- 0.01)\n",
      "Accuracy-Score of poly kernel with degree = 4 SVM classifier: 0.59 (+/- 0.01)\n",
      "Accuracy-Score of poly kernel with degree = 5 SVM classifier: 0.59 (+/- 0.01)\n",
      "Accuracy-Score of poly kernel with degree = 6 SVM classifier: 0.59 (+/- 0.01)\n"
     ]
    }
   ],
   "source": [
    "kernels = [\"linear\", \"rbf\", \"poly\"]\n",
    "Cs = [0.001, 0.01, 0.1, 1, 10, 100, 1000]\n",
    "gammas = [0.1, 1, 10, 100, 1000]\n",
    "weights = [0.1, 0.5, 1, 2, 3, 4, 10, 20]\n",
    "degrees = [0, 1, 2, 3, 4, 5, 6]    \n",
    "\n",
    "for kernel in kernels:\n",
    "    svc = SVC(kernel=kernel)\n",
    "    scores = cross_val_score(svc, vector_output, comments['label'], cv=10) # When the cv argument is an integer, cross_val_score uses KFold\n",
    "    print(\"Accuracy-Score with %s SVM classifier: %0.2f (+/- %0.2f)\" % (str(kernel),scores.mean(), scores.std() * 2))  \n",
    "\n",
    "print(\"+#+#+#+#+#+#+#+#+#+#+\")\n",
    "for g in gammas:\n",
    "    svc = SVC(kernel=\"linear\",gamma = g)\n",
    "    scores = cross_val_score(svc, vector_output, comments['label'], cv=10) # When the cv argument is an integer, cross_val_score uses KFold\n",
    "    print(\"Accuracy-Score with g = %0.1f SVM classifier: %0.2f (+/- %0.2f)\" % (g,scores.mean(), scores.std() * 2))  \n",
    "    \n",
    "print(\"+#+#+#+#+#+#+#+#+#+#+\")\n",
    "for c in Cs:\n",
    "    svc = SVC(kernel=\"linear\",C=c )\n",
    "    scores = cross_val_score(svc, vector_output, comments['label'], cv=10) # When the cv argument is an integer, cross_val_score uses KFold\n",
    "    print(\"Accuracy-Score with c = %0.2f SVM classifier: %0.2f (+/- %0.2f)\" % (c,scores.mean(), scores.std() * 2))  \n",
    "\n",
    "print(\"+#+#+#+#+#+#+#+#+#+#+\")\n",
    "for w in weights:\n",
    "    svc = SVC(kernel=\"linear\",C=1, gamma = 1, class_weight={\"liberal\": w})\n",
    "    scores = cross_val_score(svc, vector_output, comments['label'], cv=10) # When the cv argument is an integer, cross_val_score uses KFold\n",
    "    print(\"Accuracy-Score with liberal class weight = %1i SVM classifier: %0.2f (+/- %0.2f)\" % (w,scores.mean(), scores.std() * 2))  \n",
    "\n",
    "print(\"+#+#+#+#+#+#+#+#+#+#+\")\n",
    "for w in weights:\n",
    "    svc = SVC(kernel=\"linear\",C=1, gamma = 1, class_weight={\"conservative\": w})\n",
    "    scores = cross_val_score(svc, vector_output, comments['label'], cv=10) # When the cv argument is an integer, cross_val_score uses KFold\n",
    "    print(\"Accuracy-Score with conservative class weight = %1i SVM classifier: %0.2f (+/- %0.2f)\" % (w,scores.mean(), scores.std() * 2))  \n",
    "\n",
    "\n",
    "print(\"+#+#+#+#+#+#+#+#+#+#+\")\n",
    "for degree in degrees:\n",
    "    svc = SVC(kernel=\"poly\", degree=degree)\n",
    "    scores = cross_val_score(svc, vector_output, comments['label'], cv=10) # When the cv argument is an integer, cross_val_score uses KFold\n",
    "    print(\"Accuracy-Score of poly kernel with degree = %1i SVM classifier: %0.2f (+/- %0.2f)\" % (degree, scores.mean(), scores.std() * 2))  \n",
    "\n",
    "   \n"
   ]
  },
  {
   "cell_type": "markdown",
   "metadata": {},
   "source": [
    "Result: Linear SVM with liberal class weight = 2 performs best. Obtained a mean accuracy of 76%"
   ]
  },
  {
   "cell_type": "code",
   "execution_count": 13,
   "metadata": {},
   "outputs": [
    {
     "name": "stdout",
     "output_type": "stream",
     "text": [
      "              precision    recall  f1-score   support\n",
      "\n",
      "conservative       0.77      0.89      0.83        65\n",
      "     liberal       0.81      0.63      0.71        46\n",
      "\n",
      "   micro avg       0.78      0.78      0.78       111\n",
      "   macro avg       0.79      0.76      0.77       111\n",
      "weighted avg       0.79      0.78      0.78       111\n",
      "\n",
      "Accuracy-Score of optimized SVM:: 0.78 \n"
     ]
    },
    {
     "data": {
      "image/png": "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\n",
      "text/plain": [
       "<Figure size 432x288 with 1 Axes>"
      ]
     },
     "metadata": {
      "needs_background": "light"
     },
     "output_type": "display_data"
    },
    {
     "data": {
      "image/png": "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\n",
      "text/plain": [
       "<Figure size 360x360 with 1 Axes>"
      ]
     },
     "metadata": {
      "needs_background": "light"
     },
     "output_type": "display_data"
    },
    {
     "data": {
      "text/plain": [
       "(0, 1)"
      ]
     },
     "execution_count": 13,
     "metadata": {},
     "output_type": "execute_result"
    },
    {
     "data": {
      "image/png": "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\n",
      "text/plain": [
       "<Figure size 432x288 with 1 Axes>"
      ]
     },
     "metadata": {
      "needs_background": "light"
     },
     "output_type": "display_data"
    }
   ],
   "source": [
    "#Train new SVM with opimized Hyperparameters and test it:\n",
    "svm = SVC(kernel = \"linear\", class_weight={\"liberal\": 2}, probability=True)\n",
    "svm_model = svm.fit(x_train,y_train)\n",
    "y_pred = svm.predict(x_test)\n",
    "\n",
    "###Test SVM\n",
    "print(classification_report(y_test, y_pred))\n",
    "print(\"Accuracy-Score of optimized SVM:: %0.2f \" % (svm_model.score(x_test, y_test)))\n",
    "\n",
    "\n",
    "###Visualize confusion matrix:\n",
    "cm = confusion_matrix(y_test, y_pred)\n",
    "sns.heatmap(cm, fmt='d', cmap='GnBu', cbar=False, annot=True, yticklabels = [ \"conservative \", \"liberal \"], xticklabels  = [\"conservative \", \"liberal \"])\n",
    "\n",
    "\n",
    "###plot roc curve:\n",
    "import sklearn.preprocessing\n",
    "from sklearn import preprocessing\n",
    "from sklearn import metrics\n",
    "\n",
    "le = preprocessing.LabelEncoder()\n",
    "le.fit(y_test)\n",
    "y_test_bin = le.transform(y_test)\n",
    "y_pred_proba = svm.predict_proba(x_test)[::,1]\n",
    "fpr, tpr, _ = metrics.roc_curve(y_test_bin,y_pred_proba)\n",
    "plot_roc_curves([fpr], [tpr])\n",
    "\n",
    "\n",
    "###Precision-Recall vs Threshold Chart for democratic class\n",
    "# Get probabilities with which fitted svm predicts the class label\n",
    "probs_y=svm_model.predict_proba(x_test) # probs_y is a 2-D array of probability of being labeled as conservative (first column of array) vs liberal (2nd column in array)\n",
    "from sklearn.metrics import precision_recall_curve\n",
    "precision, recall, thresholds = precision_recall_curve(y_test_bin, probs_y[:,1]) #retrieve probability of being liberal(in second column of probs_y)\n",
    "pr_auc = metrics.auc(recall, precision)\n",
    "\n",
    "plt.title(\"Precision-Recall vs Threshold Chart for democratic class\")\n",
    "plt.plot(thresholds, precision[: -1], \"b--\", label=\"Precision\")\n",
    "plt.plot(thresholds, recall[: -1], \"r--\", label=\"Recall\")\n",
    "plt.ylabel(\"Precision, Recall\")\n",
    "plt.xlabel(\"Threshold\")\n",
    "plt.legend(loc=\"lower left\")\n",
    "plt.ylim([0,1])"
   ]
  },
  {
   "cell_type": "markdown",
   "metadata": {},
   "source": [
    "### Artificially balance Dataset by labelling more democratic comments "
   ]
  },
  {
   "cell_type": "code",
   "execution_count": 15,
   "metadata": {},
   "outputs": [
    {
     "name": "stdout",
     "output_type": "stream",
     "text": [
      "Number of conservative comments: 259\n",
      "Number of liberal comments: 243\n",
      "The dataset is mostly balanced\n"
     ]
    },
    {
     "data": {
      "image/png": "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\n",
      "text/plain": [
       "<Figure size 432x288 with 1 Axes>"
      ]
     },
     "metadata": {
      "needs_background": "light"
     },
     "output_type": "display_data"
    }
   ],
   "source": [
    "#Loading Data:\n",
    "comments_balanced = pd.read_csv('data/comments_rep_dem_labeled.csv')\n",
    "comments_balanced = comments_balanced.drop('Unnamed: 0', axis =1)\n",
    "\n",
    "#Vizualize target class distribution:\n",
    "ax = sns.countplot(x=\"label\", data=comments_balanced)    \n",
    "ax.set(title='Distribution of target classes')\n",
    "print('Number of conservative comments: {}').format(int(comments_balanced[\"label\"][comments_balanced[\"label\"] == \"conservative\"].count()))\n",
    "print('Number of liberal comments: {}').format(int(comments_balanced[\"label\"] [comments_balanced[\"label\"]  == \"liberal\"].count()))\n",
    "print('The dataset is mostly balanced')\n",
    "\n",
    "#build TDIDF matrix with train data (comments)\n",
    "vect = TfidfVectorizer(analyzer=clean)\n",
    "vector_output = vect.fit_transform(comments_balanced['text'])"
   ]
  },
  {
   "cell_type": "code",
   "execution_count": 15,
   "metadata": {},
   "outputs": [
    {
     "name": "stdout",
     "output_type": "stream",
     "text": [
      "Accuracy-Score of SVM classifier with 10-fold cross validation: 0.79 (+/- 0.06)\n",
      "              precision    recall  f1-score   support\n",
      "\n",
      "conservative       0.76      0.88      0.81        77\n",
      "     liberal       0.85      0.70      0.77        74\n",
      "\n",
      "   micro avg       0.79      0.79      0.79       151\n",
      "   macro avg       0.80      0.79      0.79       151\n",
      "weighted avg       0.80      0.79      0.79       151\n",
      "\n",
      "Accuracy-Score of SVM on: 0.79 \n"
     ]
    }
   ],
   "source": [
    "# SVM\n",
    "from sklearn.svm import SVC\n",
    "svm = SVC(kernel = \"linear\")\n",
    "scores = cross_val_score(svm, vector_output, comments_balanced['label'], cv=10) # When the cv argument is an integer, cross_val_score uses KFold\n",
    "print(\"Accuracy-Score of SVM classifier with 10-fold cross validation: %0.2f (+/- %0.2f)\" % (scores.mean(), scores.std() * 2))  \n",
    "\n",
    "#split in test and train set:\n",
    "x_train, x_test, y_train, y_test = train_test_split(vector_output, comments_balanced['label'], test_size=0.3, random_state = 27)\n",
    "\n",
    "#train model\n",
    "svm = SVC(kernel = \"linear\", probability=True)\n",
    "svm_model = svm.fit(x_train,y_train)\n",
    "y_pred = svm.predict(x_test)\n",
    "\n",
    "#test model\n",
    "from sklearn.metrics import classification_report, confusion_matrix\n",
    "from sklearn.metrics import precision_recall_fscore_support as score\n",
    "print(classification_report(y_test, y_pred))\n",
    "\n",
    "print(\"Accuracy-Score of SVM on: %0.2f \" % (svm_model.score(x_test, y_test)))"
   ]
  },
  {
   "cell_type": "code",
   "execution_count": 16,
   "metadata": {},
   "outputs": [
    {
     "data": {
      "image/png": "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\n",
      "text/plain": [
       "<Figure size 432x288 with 1 Axes>"
      ]
     },
     "metadata": {
      "needs_background": "light"
     },
     "output_type": "display_data"
    },
    {
     "data": {
      "image/png": "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\n",
      "text/plain": [
       "<Figure size 360x360 with 1 Axes>"
      ]
     },
     "metadata": {
      "needs_background": "light"
     },
     "output_type": "display_data"
    },
    {
     "data": {
      "text/plain": [
       "(0, 1)"
      ]
     },
     "execution_count": 16,
     "metadata": {},
     "output_type": "execute_result"
    },
    {
     "data": {
      "image/png": "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\n",
      "text/plain": [
       "<Figure size 432x288 with 1 Axes>"
      ]
     },
     "metadata": {
      "needs_background": "light"
     },
     "output_type": "display_data"
    }
   ],
   "source": [
    "#Visualize confusion matrix:\n",
    "cm = confusion_matrix(y_test, y_pred)\n",
    "sns.heatmap(cm, fmt='d', cmap='GnBu', cbar=False, annot=True, yticklabels = [ \"conservative \", \"liberal \"], xticklabels  = [\"conservative \", \"liberal \"])\n",
    "\n",
    "###plot roc curve:\n",
    "import sklearn.preprocessing\n",
    "from sklearn import preprocessing\n",
    "from sklearn import metrics\n",
    "\n",
    "le = preprocessing.LabelEncoder()\n",
    "le.fit(y_test)\n",
    "y_test_bin = le.transform(y_test)\n",
    "y_pred_proba = svm.predict_proba(x_test)[::,1]\n",
    "fpr, tpr, _ = metrics.roc_curve(y_test_bin,y_pred_proba)\n",
    "plot_roc_curves([fpr], [tpr])\n",
    "\n",
    "\n",
    "###Precision-Recall vs Threshold Chart for democratic class\n",
    "# Get probabilities with which fitted svm predicts the class label\n",
    "probs_y=svm_model.predict_proba(x_test) # probs_y is a 2-D array of probability of being labeled as conservative (first column of array) vs liberal (2nd column in array)\n",
    "from sklearn.metrics import precision_recall_curve\n",
    "precision, recall, thresholds = precision_recall_curve(y_test_bin, probs_y[:,1]) #retrieve probability of being liberal(in second column of probs_y)\n",
    "pr_auc = metrics.auc(recall, precision)\n",
    "\n",
    "plt.title(\"Precision-Recall vs Threshold Chart for democratic class\")\n",
    "plt.plot(thresholds, precision[: -1], \"b--\", label=\"Precision\")\n",
    "plt.plot(thresholds, recall[: -1], \"r--\", label=\"Recall\")\n",
    "plt.ylabel(\"Precision, Recall\")\n",
    "plt.xlabel(\"Threshold\")\n",
    "plt.legend(loc=\"lower left\")\n",
    "plt.ylim([0,1])"
   ]
  },
  {
   "cell_type": "markdown",
   "metadata": {},
   "source": [
    "## Approach 2: Presidential candidates' Tweets\n",
    "We scraped 35.924 Tweets from democratic and republican presidential candidates 2020 via Twitter API\n",
    "- load data\n",
    "- build TDIDF matrix with train data (Tweets)\n",
    "- transform test data (labeled comments) to fit TDIDF matrix\n",
    "- calculate inner accuracy of the corpus\n",
    "- Train test split with 30% holdout  <br>\n",
    "- Train SVM and test on balanced comments\n",
    "    - build and confusion matrix <br>"
   ]
  },
  {
   "cell_type": "code",
   "execution_count": 23,
   "metadata": {},
   "outputs": [
    {
     "name": "stdout",
     "output_type": "stream",
     "text": [
      "(35924, 3)\n",
      "Index([u'Unnamed: 0', u'label', u'body'], dtype='object')\n"
     ]
    }
   ],
   "source": [
    "#Loading Data:\n",
    "data = pd.read_csv('data/All_Tweets_labelled.csv')\n",
    "\n",
    "print(data.shape)\n",
    "print(data.columns)"
   ]
  },
  {
   "cell_type": "code",
   "execution_count": 24,
   "metadata": {},
   "outputs": [],
   "source": [
    "#Make TDIDF:\n",
    "from sklearn.feature_extraction.text import TfidfVectorizer\n",
    "\n",
    "#build TDIDF matrix with train data (Tweets)\n",
    "vect = TfidfVectorizer(analyzer=clean)\n",
    "vector_output = vect.fit_transform(data['body'])\n",
    "\n",
    "#transform test data (comments_balanced)\n",
    "x = np.array(comments_balanced[\"text\"])\n",
    "X_vec = vect.transform(x)\n"
   ]
  },
  {
   "cell_type": "code",
   "execution_count": null,
   "metadata": {},
   "outputs": [],
   "source": [
    "# Look at inner accuracy (tested and trained on the same set):\n",
    "from sklearn.svm import SVC\n",
    "svm = SVC(kernel = \"linear\")\n",
    "scores = cross_val_score(svm, vector_output, data['label'], cv=10) # When the cv argument is an integer, cross_val_score uses KFold\n",
    "print(\"Inner Accuracy of Tweet Data using SVM is: %0.2f (+/- %0.2f)\" % (scores.mean(), scores.std() * 2))  "
   ]
  },
  {
   "cell_type": "code",
   "execution_count": null,
   "metadata": {},
   "outputs": [],
   "source": [
    "#Train with Tweet data and predict YouTube comments with SVM :\n",
    "from sklearn.svm import SVC\n",
    "svm = SVC(kernel = \"linear\")\n",
    "svm_model = svm.fit(vector_output,data['label'])\n",
    "\n",
    "y_pred = svm.predict(X_vec)\n",
    "y_test = comments_balanced[\"label\"]\n",
    "\n",
    "print('Accuracy of SVM trained on Tweets in predicting YouTube comments: {}'.format(svm.score(X_vec, y_test)))"
   ]
  },
  {
   "cell_type": "code",
   "execution_count": null,
   "metadata": {},
   "outputs": [],
   "source": [
    "from sklearn.metrics import classification_report, confusion_matrix\n",
    "from sklearn.metrics import precision_recall_fscore_support as score\n",
    "\n",
    "\n",
    "#Test Random Forest:\n",
    "print(classification_report(y_test, y_pred))\n",
    "\n",
    "cm = confusion_matrix(y_test, y_pred)\n",
    "sns.heatmap(cm, fmt='d', cmap='GnBu', cbar=False, annot=True, yticklabels = [ \"conservative \", \"liberal \"], xticklabels  = [\"conservative \", \"liberal \"])\n",
    "\n"
   ]
  },
  {
   "cell_type": "markdown",
   "metadata": {},
   "source": [
    "## Approach 2: Manifesto Corpus with parties’ manifestos\n",
    "The Manifesto Project (https://manifesto-project.wzb.eu) provides the scientific community with parties’ policy positions derived from a content analysis of parties’ electoral manifestos. It covers over 1000 parties from 1945 until today in over 50 countries on five continents. We downloaded party manifestos of the Democrat and Republican party from 2006.\n",
    "- load data (party manifestos)\n",
    "- build one DataFrame with labels and shuffle it\n",
    "- build TDIDF matrix with built DataFrame\n",
    "- transform test data (labeled comments) to fit TDIDF matrix\n",
    "- Calculate inner accuracy of the corpus\n",
    "- Train test split with 30% holdout  <br>\n",
    "- Train SVM and test on balanced comments\n",
    "    - build and confusion matrix <br>"
   ]
  },
  {
   "cell_type": "code",
   "execution_count": 20,
   "metadata": {},
   "outputs": [
    {
     "data": {
      "text/html": [
       "<div>\n",
       "<style scoped>\n",
       "    .dataframe tbody tr th:only-of-type {\n",
       "        vertical-align: middle;\n",
       "    }\n",
       "\n",
       "    .dataframe tbody tr th {\n",
       "        vertical-align: top;\n",
       "    }\n",
       "\n",
       "    .dataframe thead th {\n",
       "        text-align: right;\n",
       "    }\n",
       "</style>\n",
       "<table border=\"1\" class=\"dataframe\">\n",
       "  <thead>\n",
       "    <tr style=\"text-align: right;\">\n",
       "      <th></th>\n",
       "      <th>content</th>\n",
       "      <th>cmp_code</th>\n",
       "      <th>eu_code</th>\n",
       "      <th>label</th>\n",
       "    </tr>\n",
       "  </thead>\n",
       "  <tbody>\n",
       "    <tr>\n",
       "      <th>0</th>\n",
       "      <td>In fact, Trump rejected some attempts by his o...</td>\n",
       "      <td>305.2</td>\n",
       "      <td>NaN</td>\n",
       "      <td>liberal</td>\n",
       "    </tr>\n",
       "    <tr>\n",
       "      <th>1</th>\n",
       "      <td>and they cannot be expected to do so voluntari...</td>\n",
       "      <td>104</td>\n",
       "      <td>NaN</td>\n",
       "      <td>conservative</td>\n",
       "    </tr>\n",
       "    <tr>\n",
       "      <th>2</th>\n",
       "      <td>We urge the government of China to recognize t...</td>\n",
       "      <td>201.2</td>\n",
       "      <td>NaN</td>\n",
       "      <td>conservative</td>\n",
       "    </tr>\n",
       "    <tr>\n",
       "      <th>3</th>\n",
       "      <td>no such agreement can be binding upon the Unit...</td>\n",
       "      <td>203</td>\n",
       "      <td>NaN</td>\n",
       "      <td>conservative</td>\n",
       "    </tr>\n",
       "    <tr>\n",
       "      <th>4</th>\n",
       "      <td>And we will use technology to improve outcomes...</td>\n",
       "      <td>411</td>\n",
       "      <td>NaN</td>\n",
       "      <td>liberal</td>\n",
       "    </tr>\n",
       "  </tbody>\n",
       "</table>\n",
       "</div>"
      ],
      "text/plain": [
       "                                             content cmp_code  eu_code  \\\n",
       "0  In fact, Trump rejected some attempts by his o...    305.2      NaN   \n",
       "1  and they cannot be expected to do so voluntari...      104      NaN   \n",
       "2  We urge the government of China to recognize t...    201.2      NaN   \n",
       "3  no such agreement can be binding upon the Unit...      203      NaN   \n",
       "4  And we will use technology to improve outcomes...      411      NaN   \n",
       "\n",
       "          label  \n",
       "0       liberal  \n",
       "1  conservative  \n",
       "2  conservative  \n",
       "3  conservative  \n",
       "4       liberal  "
      ]
     },
     "execution_count": 20,
     "metadata": {},
     "output_type": "execute_result"
    }
   ],
   "source": [
    "import os\n",
    "import glob\n",
    "\n",
    "#import:\n",
    "data1 = pd.read_csv('data/Democratic Speeches 2016 from Manifesto-Project.csv')\n",
    "data2 = pd.read_csv('data/Repubican Speeches 2016 from Manifesto-Project.csv')\n",
    "\n",
    "#build one data frame:\n",
    "data1 = pd.DataFrame(data1)\n",
    "data2 = pd.DataFrame(data2)\n",
    "data1[\"label\"] = \"liberal\"\n",
    "data2[\"label\"] = \"conservative\"\n",
    "data = data1.append(data2) \n",
    "\n",
    "#shuffle randomly:\n",
    "import random\n",
    "data = data.sample(frac=1).reset_index(drop=True)\n",
    "\n",
    "data[:5]"
   ]
  },
  {
   "cell_type": "code",
   "execution_count": 21,
   "metadata": {},
   "outputs": [],
   "source": [
    "#build TDIDF matrix with train data (manifesto corpus)\n",
    "from sklearn.feature_extraction.text import TfidfVectorizer\n",
    "vect = TfidfVectorizer(analyzer=clean)\n",
    "vector_output = vect.fit_transform(data['content'])\n",
    "\n",
    "#transform test data (comments_balanced)\n",
    "x = np.array(comments_balanced[\"text\"])\n",
    "X_vec = vect.transform(x)\n"
   ]
  },
  {
   "cell_type": "code",
   "execution_count": 22,
   "metadata": {},
   "outputs": [
    {
     "name": "stdout",
     "output_type": "stream",
     "text": [
      "Inner Accuracy of Manifesto Corpus Data using SVM is: 0.81 (+/- 0.03)\n"
     ]
    }
   ],
   "source": [
    "# Look at inner accuracy (tested and trained on the same set):\n",
    "from sklearn.svm import SVC\n",
    "svm = SVC(kernel = \"linear\")\n",
    "scores = cross_val_score(svm, vector_output, data['label'], cv=10) # When the cv argument is an integer, cross_val_score uses KFold\n",
    "print(\"Inner Accuracy of Manifesto Corpus Data using SVM is: %0.2f (+/- %0.2f)\" % (scores.mean(), scores.std() * 2))  \n"
   ]
  },
  {
   "cell_type": "code",
   "execution_count": 10,
   "metadata": {},
   "outputs": [
    {
     "name": "stdout",
     "output_type": "stream",
     "text": [
      "Accuracy 0.54780876494\n"
     ]
    }
   ],
   "source": [
    "#Train with Manifesto Corpus data and predict YouTube comments with linear SVM:\n",
    "from sklearn.svm import SVC\n",
    "svm = SVC(kernel = \"linear\")\n",
    "svm_model = svm.fit(vector_output,data['label'])\n",
    "\n",
    "y_pred = svm.predict(X_vec)\n",
    "y_test = comments_balanced[\"label\"]\n",
    "\n",
    "print('Accuracy of SVM trained on Political Manifestos in predicting YouTube comments: {}'.format(svm.score(X_vec, y_test)))"
   ]
  },
  {
   "cell_type": "code",
   "execution_count": 12,
   "metadata": {},
   "outputs": [
    {
     "name": "stdout",
     "output_type": "stream",
     "text": [
      "              precision    recall  f1-score   support\n",
      "\n",
      "conservative       0.55      0.64      0.60       259\n",
      "     liberal       0.54      0.44      0.49       243\n",
      "\n",
      "   micro avg       0.55      0.55      0.55       502\n",
      "   macro avg       0.55      0.54      0.54       502\n",
      "weighted avg       0.55      0.55      0.54       502\n",
      "\n"
     ]
    },
    {
     "data": {
      "text/plain": [
       "<matplotlib.axes._subplots.AxesSubplot at 0x101e8ce90>"
      ]
     },
     "execution_count": 12,
     "metadata": {},
     "output_type": "execute_result"
    },
    {
     "data": {
      "image/png": "iVBORw0KGgoAAAANSUhEUgAAAXEAAAD8CAYAAACB3pQWAAAABHNCSVQICAgIfAhkiAAAAAlwSFlzAAALEgAACxIB0t1+/AAAADl0RVh0U29mdHdhcmUAbWF0cGxvdGxpYiB2ZXJzaW9uIDIuMi4zLCBodHRwOi8vbWF0cGxvdGxpYi5vcmcvIxREBQAAFDBJREFUeJzt3X+8VHWdx/HXh3tRQOUKgSYKSGqmooKAqaip/VY011+sP3JNXbatNdfabEu0MixWIjfMFjVTZGkDRd201vy1hGiropj5q8xN201U0AtigPz67B8z0LWVe89N5s49l9fz8biPmfOdmTPv4XHum3O/c85MZCaSpHLqVu8AkqQ/nyUuSSVmiUtSiVniklRilrgklZglLkklZolLUolZ4pJUYpa4JJVYY62foOfhF3tKqDql5rvOrXcEaaN6NDRFkfu5Jy5JJWaJS1KJWeKSVGKWuCSVmCUuSSVmiUtSiVniklRilrgklZglLkklZolLUolZ4pJUYpa4JJWYJS5JJWaJS1KJWeKSVGKWuCSVmCUuSSVmiUtSiVniklRilrgklZglLkklZolLUolZ4pJUYpa4JJWYJS5JJWaJS1KJWeKSVGKWuCSVmCUuSSVmiUtSiVniklRilrgklZglLkklZolLUolZ4pJUYpa4JJWYJS5JJWaJS1KJWeKSVGKWuCSVmCUuSSVmiUtSiVniklRilrgklZglLkklZolLUolZ4pJUYpa4JJWYJS5JJdZY7wD6o6nnH81HD3g3i5b8gZFnTt0w/rd/MYpPHjuKNevWcft//YYLrryLv/zAUP5+7EEb7rP3u7bnwHFX8dizL9UjujZDM6b/kNk33EJmcvyJx3La6SfzrUlT+Nmce+nevTs7DdyRiy+5iN69t6l31C7NEu9Ept/+C6be/BDf++KxG8YOHbYzY0bvzqizr2TV6rX037YXAD+863F+eNfjAOw1ZDtumDDWAleHeeaZZ5l9wy3MmHkd3bs38qlx53LIoaM54KD9+cx5n6KxsZHLJl/ONVdfx3mfO6fecbs0p1M6kfse+x2vvrbiTWPjPjaCb/7gPlatXgvAoiXL/9/jTnr/UGbd83iHZJQAfvvsb9ln36H07NmDxsZGRozaj3vunsNBow+gsbGyb7jPvkN5+cWX65y067PEO7ldd3oHo/cZxNzvnsUd//xXjNh9wP+7zwmH7cmsuy1xdZxdd9uFh+cvYMmSJaxYsZJ5c+/jxYVv/kvwlptuZfQhB21kDdpUnE7p5BobutFnmx4c+qlrGPmeAfzrl49nj1Mu33D7qD12ZPkbq3nyuUV1TKnNzbt2GcInzj6dvznrHHr16sm7d9+NxsaGDbdfPfX7NDQ0cNTRH6ljys1Dm3viUXFaRFxUXR4UEfu38ZhxETE/IuaveWH+psq6Wfr9ote4Ze7TAMx/+gXWrUv6NfXacPuJh+/FrHueqFc8bcaOO/5jzJw9nWunX0VTUxODBg8C4Ee33Mbcn83jG5d+jYioc8qur8h0yneBA4GTq8vLgCtae0BmXpWZIzNzZOOAkW8z4ubt1nm/4rD9hgCw60592aJ7A4uXVubFI+C4w/bkBufDVQevvPIqAAtfeJG77/pPPnrkh7jv3p9z7fem8+0rJtOzZ486J9w8FJlOeW9m7hcRCwAyszkitqhxrs3StPHHcciwwfRr6sVvZv09X7tuDtP+YwFXnn8M87//SVatXsvZE/99w/0P3mcwv1/0Gs8tXFLH1Npcfe7cL7B0yWs0dm/gS+M/T++m3nxjwiRWrV7FJ8/6OwD23ncoF37li3VO2rVFZrZ+h4gHgIOAh6pl3h+4IzOHF3mCnodf3PoTSHXSfNe59Y4gbVSPhqZCc1FFplOmADcD20XEJcA84OtvI5skaRNpczolM2dExMPA+4EAjs3Mp2qeTJLUpjZLPCK+DczMzFbfzJQkdbwi0ymPAOMj4jcRMSkiPNxEkjqJNks8M6dl5pHA/sCvgX+KiGdqnkyS1Kb2nHa/K/AeYGfg6ZqkkSS1S5EzNtfveV8MPAGMyMyja55MktSmIif7/BY4MDMX1zqMJKl9NlriEfGezHwaeBAYFBGDWt6emY/UOpwkqXWt7Yl/FhgHTH6L2xI4oiaJJEmFbbTEM3Nc9epHM3Nly9siwk+2kaROoMjRKfcXHJMkdbDW5sTfCewI9IyI4VROuQfoDfTa2OMkSR2ntTnxDwNnADsB32oxvgz4Ug0zSZIKam1OfBowLSKOz8zZHZhJklRQkU8xnB0RRwF7AT1ajF9cy2CSpLYVOWNzKjAWOIfKvPiJwOAa55IkFVDk6JSDMvN0oDkzv0rl+zYH1jaWJKmIIiW+onq5PCIGAKuBIbWLJEkqqshnp9wWEdsCk6h8tngCV9c0lSSpkCJvbH6tenV2RNwG9MjMpbWNJUkqosgbm7+IiC9FxC6Z+YYFLkmdR5E58WOANcCsiHgoIv7hTz/RUJJUH0W+nu35zLw0M0cApwD7UPmMcUlSnRV5Y5OI2Bk4icrx4muB82sXSZJUVJslHhEPAN2BWcCJmfnfNU8lSSqk1RKPiG7AzZk5sYPySJLaodU58cxcBxzZQVkkSe1U5OiUO6tHpAyMiL7rf2qeTJLUpiJvbJ5Zvfx0i7EE3rXp40iS2qPIGZt+TookdVJFztjsFRHjI+Kq6vJuETGm9tEkSW0pMid+LbAKOKi6/L/AhJolkiQVVqTEd8nMS6l8BC2ZuYI/fmmyJKmOipT4qojoSeXNTCJiF+CNmqaSJBVS5OiULwO3AwMjYgYwGjijlqEkScUUOTrlzoh4BDiAyjTKuZm5uObJJEltKnJ0ymhgZWb+GNgW+FJE+EXJktQJFJkT/xcq36+5L/B54Hng+pqmkiQVUqTE12RmAh8DpmTmt4FtahtLklREkTc2l0XEF4HTgEMjooHKR9NKkuqsyJ74WCqHFJ6VmS8CO1L55ntJUp0VOTrlReBbLZZ/h3PiktQpFDk65biIeCYilkbEaxGxLCJe64hwkqTWFZkTvxQ4OjOfqnUYSVL7FJkTf8kCl6TOqcie+PyImAncQovPTMnMm2qWSpJUSJES7w0sBz7UYiwBS1yS6qzI0Smf6IggkqT2K3J0yk4RcXNEvBwRL0XE7IjYqSPCSZJaF5Uz6lu5Q8SdwA+A6dWh04BTM/ODRZ7gzHseaf0JpDo5b5ibpjqvvfuOKPTlO0WOTumfmddm5prqz3VA/7eVTpK0SRQp8cURcVpENFR/TgNeqXUwSVLbipT4mcBJwIvAQuCE6pgkqc6KHJ3yO+CYDsgiSWqnIkenTIuIbVss94mI79c2liSpiCLTKftk5pL1C5nZDAyvXSRJUlFFSrxbRPRZvxARfSl2pqckqcaKlPFk4P6IuJHK6fYnAZfUNJUkqZAib2xeHxHzgSOAAI7LzCdrnkyS1KZC0yLV0ra4JamTKTInLknqpCxxSSoxS1ySSswSl6QSs8QlqcQscUkqMUtckkrMEpekErPEJanELHFJKjFLXJJKzBKXpBKzxCWpxCxxSSoxS1ySSswSl6QSs8QlqcQscUkqMUtckkrMEpekErPEJanELHFJKjFLXJJKzBKXpBKzxCWpxCxxSSoxS1ySSswSl6QSs8QlqcQscUkqMUtckkrMEpekErPEJanELHFJKjFLXJJKzBKXpBKzxCWpxCxxSSoxS1ySSqyx3gH0Zs9cP5XmXy6g+za9GX7RJACe/9EsXn1sPhHd6L5Nb3Y9/ZNsuW1flv76SZ76l2/So992APQdNopBRx1fz/jqwq6YcCUP37+Apj69uWzGpQAsW/o6l104hZcXLmK7Hfrz2QmfYeveW/OH15cz5StXsPilV1i7di3HnHIUR4w5rL4voItyT7yT2e7A97HnOf/4prEdPziG4eMvZdgFE+kzdD/+5yc3bbit967vYdgFExl2wUQLXDV1+FGHMv6yL7xp7JbpP2LvkUP5zg2XsffIodw8/VYAbr/xDnYashOTp0/kq1dcyPVTZrB69Zp6xO7yLPFOpmm3PWjcaus3jTX27LXh+rpVKwmio2NJ7Dl8D7bu/eZt86F7H+awIw8B4LAjD+GhufMBiAhWLl9BZrJyxUq27r01DQ3WTS04nVISz//7TF5+YC6NPXox9LwLN4wv++0zLJjwBbZo6sOQ40+l14CBdUypzc2SV5fSp18fAPr068PS5qUAfPSEDzHx/Mn89dGfZuXyFZz3tc/QrZslXgs1+VeNiHERMT8i5v/qtpvafoDaNPhjYxn19Svov/9oFs75KQBbDdyZkRMuZ/j4f2KHwz/MU1O/VeeUUsWjDzzGzrsN5upbr2DStG9wzeTrWP6H5fWO1SVttMQj4rjWflpbaWZelZkjM3Pk7mNavavaqd+o0byy4EGgMs3S0KMHAH2HDifXrmH166/VM542M9v2baJ5cTMAzYubaerTBMB//vhnvPewUUQEOwx8J9sN6M/vn3uhnlG7rNb2xI9u5WdM7aNpvRUvL9xw/dXHHqbnOwcAsGrpEjITgGXP/YbMpHGrbeqSUZunkQfvx5yf3AvAnJ/cy6hDRgDQb/t38Mv5jwOVKZcXnl/I9jtuV7ecXVmsL4FaOfOeR2r7BF3Mr66ZwtJfP8Wa15fRvXcTg8acQPPjj7LipRegW7Bl3/7scspZbLltXxbO+SkL595JdGugW/ctGHLCx+m9y7vr/RJK47xhbprtcdlFl/PEI0+xbMkymvo2Mfbs49n/fSOZfMEUFr+0mH7b9+Nzl5zLNk1b8+qiZr4zYSpLFi8hSf7i48dw6EcOrvdLKJW9+44odARDoRKPiKOAvYAe68cy8+IiT2CJq7OyxNWZFS3xNt/YjIipwFjgHCCAE4HBbyudJGmTKHJ0ykGZeTrQnJlfBQ4EPI5NkjqBIiW+snq5PCIGAKuBIbWLJEkqqsjJPrdGxLbAJOARIIGra5pKklRIqyUeEd2AuzNzCTA7Im4DemTm0g5JJ0lqVavTKZm5DpjcYvkNC1ySOo8ic+J3RMTxEeGnLklSJ1NkTvyzwFbA2ohYQeUww8zM3jVNJklqU5slnpmexy1JnVSRk30iIk6LiAurywMjYv/aR5MktaXInPh3qZzgc0p1+XXgipolkiQVVmRO/L2ZuV9ELADIzOaI2KLGuSRJBRTZE18dEQ1UTvIhIvoD62qaSpJUSJESnwLcDGwfEZcA84Cv1zSVJKmQIkenzIiIh4H3V4eOzcynahtLklRE0S9K7gWsn1LpWbs4kqT2KHKI4UXANKAv0A+4NiLG1zqYJKltRfbETwaGZ+ZKgIiYSOXTDCfUMpgkqW1F3th8jhZfywZsCTxbkzSSpHbZ6J54RFxOZQ78DeCJiLizuvxBKkeoSJLqrLXplPnVy4epHGK43pyapZEktctGSzwzp3VkEElS+7U2nTIrM0+KiF9SPVuzpczcp6bJJEltam065dzq5ZiOCCJJar/WplMWVi+f77g4kqT2aG06ZRlvMY2C3+wjSZ1Ga3vifqOPJHVyRU72kSR1Upa4JJWYJS5JJWaJS1KJWeKSVGKWuCSVmCUuSSVmiUtSiVniklRilrgklZglLkklZolLUolZ4pJUYpa4JJWYJS5JJWaJS1KJWeKSVGKWuCSVmCUuSSVmiUtSiVniklRilrgklZglLkklFplZ7wxqh4gYl5lX1TuH9KfcNuvDPfHyGVfvANJGuG3WgSUuSSVmiUtSiVni5eOcozort8068I1NSSox98QlqcQs8S4uIs6IiAEtlr8XEXvWM5M6p4h4vXo5ICJurF4/IyK+U6Pnuy4iTqjFujcnlniJRETDn/GwM4ANJZ6ZZ2fmk5sslLqczHwhMzdJuf6Z26zawRJvh4g4PSIei4hfRMT06tjgiLi7On53RAyqjl8XEVMi4v6I+O/1exwRsUNEzI2IRyPi8Yg4pDr+oYj4eUQ8EhE3RMTW1fHnIuKiiJgHnB8RD7bIs3NEPFa9flFEPFRd51VRcQIwEphRfb6eETEnIkZGxN9GxKUt1nVGRFxevX5aRDxYfcyV/iJuXqrb1eMthgZGxO0R8auI+HKL+73ldhIRr0fExRHxAHDgW22bHf2aujJLvKCI2Au4ADgiM/cFzq3e9B3g+szcB5gBTGnxsB2Ag4ExwMTq2CnATzNzGLAv8GhE9APGAx/IzP2A+cBnW6xnZWYenJnfALaIiHdVx8cCs9bnyMxRmTkU6AmMycwbq+s6NTOHZeaKFuu8ETiuxfJYYGZE7FG9PrqacS1wavv+tdTF7E9lGxgGnFjdCWhtO9kKeDwz35uZ83iLbbPjX0LX1VjvACVyBHBjZi4GyMxXq+MH8scynA5c2uIxt2TmOuDJiNi+OvYQ8P2I6F69/dGIeB+wJ3BfdSdlC+DnLdYzs8X1WcBJVP5TGFv9ATg8Is4HegF9gSeAWzf2YjJzUfUvhAOAZ4DdgfuATwMjgIeqWXoCL7fxb6Ou7c7MfAUgIm6ismOyho1vJ2uB2S0e365tU+1jiRcXQJHjMVve540/eTyZOTciDgWOAqZHxCSgmcovyskbWecfWlyfCdxQ/WXKzHwmInoA3wVGZub/RMRXgB4Fss6k8h/C08DNmZnVP3WnZeYXCzxem4c/3e6Tyva8se1kZWauBXgb26YKcjqluLuBkyLiHQAR0bc6fj/wl9XrpwLzWltJRAwGXs7Mq4FrgP2A/wJGR8Su1fv0ioh3v9XjM/NZKns6F/LHPfT1vxSLq3PpLd+UWgZss5E4NwHHAie3WNfdwAkRsd3611nNrM3XB6vbQU8q28t9FN9OWts2tQm4J15QZj4REZcAP4uItcACKkd+fIbK9MjngUXAJ9pY1WHA5yNiNfA6cHp1auMM4N8iYsvq/cYDv97IOmYCk4Ah1WxLIuJq4JfAc1SmbNa7DpgaESuoTP20fE3NEfEksGdmPlgdezIixgN3REQ3YDWVKZbn23hd6rrmUZkq3BX4QWbOByiynbSxbWoT8IxNSSoxp1MkqcQscUkqMUtckkrMEpekErPEJanELHFJKjFLXJJKzBKXpBL7PxG+ShNk69bZAAAAAElFTkSuQmCC\n",
      "text/plain": [
       "<Figure size 432x288 with 1 Axes>"
      ]
     },
     "metadata": {
      "needs_background": "light"
     },
     "output_type": "display_data"
    }
   ],
   "source": [
    "from sklearn.metrics import classification_report, confusion_matrix\n",
    "\n",
    "#Test Random Forest:\n",
    "print(classification_report(y_test, y_pred))\n",
    "\n",
    "cm = confusion_matrix(y_test, y_pred)\n",
    "sns.heatmap(cm, fmt='d', cmap='GnBu', cbar=False, annot=True, yticklabels = [ \"conservative \", \"liberal \"], xticklabels  = [\"conservative \", \"liberal \"])\n",
    "\n"
   ]
  },
  {
   "cell_type": "code",
   "execution_count": null,
   "metadata": {},
   "outputs": [],
   "source": []
  }
 ],
 "metadata": {
  "kernelspec": {
   "display_name": "Python 2",
   "language": "python",
   "name": "python2"
  },
  "language_info": {
   "codemirror_mode": {
    "name": "ipython",
    "version": 2
   },
   "file_extension": ".py",
   "mimetype": "text/x-python",
   "name": "python",
   "nbconvert_exporter": "python",
   "pygments_lexer": "ipython2",
   "version": "2.7.16"
  }
 },
 "nbformat": 4,
 "nbformat_minor": 2
}
